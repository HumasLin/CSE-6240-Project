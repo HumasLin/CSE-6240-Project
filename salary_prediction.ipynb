{
  "nbformat": 4,
  "nbformat_minor": 0,
  "metadata": {
    "colab": {
      "name": "salary_prediction",
      "provenance": [],
      "collapsed_sections": [],
      "machine_shape": "hm"
    },
    "kernelspec": {
      "name": "python3",
      "display_name": "Python 3"
    }
  },
  "cells": [
    {
      "cell_type": "code",
      "metadata": {
        "colab_type": "code",
        "id": "2ri0pEDnm21U",
        "outputId": "92424037-b8bc-4c95-cb7c-e43169bf109f",
        "colab": {
          "base_uri": "https://localhost:8080/",
          "height": 143
        }
      },
      "source": [
        "import pandas as pd\n",
        "import numpy as np\n",
        "import scipy as sp\n",
        "from scipy.stats import sem, t\n",
        "from scipy import mean\n",
        "from matplotlib import pyplot as plt\n",
        "import requests\n",
        "import time\n",
        "import statistics\n",
        "import random\n",
        "import pickle \n",
        "import seaborn as sns\n",
        "import re\n",
        "import nltk\n",
        "nltk.download('stopwords')\n",
        "nltk.download('punkt')\n",
        "from bs4 import BeautifulSoup\n",
        "from nltk import word_tokenize, sent_tokenize\n",
        "from nltk.corpus import stopwords\n",
        "from sklearn import preprocessing\n",
        "from sklearn.feature_extraction.text import TfidfTransformer, CountVectorizer, TfidfVectorizer\n",
        "from sklearn.ensemble import RandomForestClassifier\n",
        "from sklearn.neighbors import KNeighborsClassifier\n",
        "from sklearn.linear_model import LogisticRegression\n",
        "from sklearn.svm import SVC\n",
        "from sklearn.cluster import KMeans\n",
        "from sklearn.model_selection import cross_val_score, GridSearchCV, train_test_split\n",
        "from sklearn.metrics import accuracy_score, r2_score"
      ],
      "execution_count": 1,
      "outputs": [
        {
          "output_type": "stream",
          "text": [
            "/usr/local/lib/python3.6/dist-packages/statsmodels/tools/_testing.py:19: FutureWarning: pandas.util.testing is deprecated. Use the functions in the public API at pandas.testing instead.\n",
            "  import pandas.util.testing as tm\n"
          ],
          "name": "stderr"
        },
        {
          "output_type": "stream",
          "text": [
            "[nltk_data] Downloading package stopwords to /root/nltk_data...\n",
            "[nltk_data]   Unzipping corpora/stopwords.zip.\n",
            "[nltk_data] Downloading package punkt to /root/nltk_data...\n",
            "[nltk_data]   Unzipping tokenizers/punkt.zip.\n"
          ],
          "name": "stdout"
        }
      ]
    },
    {
      "cell_type": "code",
      "metadata": {
        "id": "Id_0NCNuYacJ",
        "colab_type": "code",
        "colab": {}
      },
      "source": [
        "random.seed(24)"
      ],
      "execution_count": 0,
      "outputs": []
    },
    {
      "cell_type": "markdown",
      "metadata": {
        "id": "ShyGAEjWbdtm",
        "colab_type": "text"
      },
      "source": [
        "#0 Data Preparation"
      ]
    },
    {
      "cell_type": "code",
      "metadata": {
        "id": "3Lmc4-tZnGxL",
        "colab_type": "code",
        "colab": {}
      },
      "source": [
        "# Define function that cleans \n",
        "def clean(text, join):\n",
        "    # Remove HTML\n",
        "    review_text = BeautifulSoup(text).get_text()\n",
        "    \n",
        "    #Remove non-letters\n",
        "    letters_only = re.sub(\"[^a-zA-Z]\", \" \", review_text)\n",
        "    \n",
        "    #Convert to lower case and split\n",
        "    words = letters_only.lower().split()\n",
        "    \n",
        "    #Covert stop words to a set\n",
        "    stops = set(stopwords.words(\"english\"))\n",
        "    \n",
        "    #Remove stopwords\n",
        "    meaningful_words = [w for w in words if not w in stops]\n",
        "    \n",
        "    if(join):\n",
        "        #Join the words back into one string separated by space\n",
        "        clean_text = \" \".join(meaningful_words)\n",
        "    else:\n",
        "        clean_text = meaningful_words\n",
        "        \n",
        "    return clean_text"
      ],
      "execution_count": 0,
      "outputs": []
    },
    {
      "cell_type": "code",
      "metadata": {
        "id": "w-OT6y_ykqTP",
        "colab_type": "code",
        "colab": {}
      },
      "source": [
        "# Define function that vectorizes sentences\n",
        "def vect(textbox, train_set, n):\n",
        "  vectorizer = CountVectorizer(analyzer = \"word\",   \\\n",
        "                                  tokenizer = None,    \\\n",
        "                                  preprocessor = None, \\\n",
        "                                  stop_words = None,   \\\n",
        "                                  max_features = n)\n",
        "      \n",
        "  vectorizer.fit(train_set)\n",
        "\n",
        "  train_data_features = vectorizer.transform(textbox)\n",
        "\n",
        "  X_counts = train_data_features.toarray()\n",
        "\n",
        "  return(X_counts)"
      ],
      "execution_count": 0,
      "outputs": []
    },
    {
      "cell_type": "markdown",
      "metadata": {
        "id": "if6tzf_feK9R",
        "colab_type": "text"
      },
      "source": [
        "### 0.1 Prepare training data"
      ]
    },
    {
      "cell_type": "code",
      "metadata": {
        "id": "nx9n3FKvbkES",
        "colab_type": "code",
        "colab": {}
      },
      "source": [
        "df_final = pd.read_csv(\"drive/My Drive/CSE 6240/Final_Data.csv\", delimiter=\",\")"
      ],
      "execution_count": 0,
      "outputs": []
    },
    {
      "cell_type": "code",
      "metadata": {
        "id": "qZKSu8khAqQs",
        "colab_type": "code",
        "colab": {}
      },
      "source": [
        "df_all = df_final.loc[:,['description', 'company_name', 'location', 'title']]"
      ],
      "execution_count": 0,
      "outputs": []
    },
    {
      "cell_type": "code",
      "metadata": {
        "id": "BSJL12Z0epXy",
        "colab_type": "code",
        "colab": {}
      },
      "source": [
        "des_mean=df_final.loc[:,['description', 'anualized_salary_mean', 'company_name',\n",
        "                         'location', 'title']]\n",
        "des_mean_train=des_mean[des_mean['anualized_salary_mean'].notna()]\n",
        "des_mean_train=des_mean_train[des_mean_train.anualized_salary_mean != 0.0]\n",
        "des_mean_train.index = range(len(des_mean_train))"
      ],
      "execution_count": 0,
      "outputs": []
    },
    {
      "cell_type": "code",
      "metadata": {
        "id": "1GlR8XQj3JwM",
        "colab_type": "code",
        "outputId": "b60dcb5c-8369-4ad4-f694-cd47babbb0d5",
        "colab": {
          "base_uri": "https://localhost:8080/",
          "height": 326
        }
      },
      "source": [
        "# Show dataset statistics\n",
        "sal_plot = des_mean_train[des_mean_train[\"anualized_salary_mean\"].notnull()]\n",
        "print(\"salary median: \", str(des_mean_train[\"anualized_salary_mean\"].median()))\n",
        "print(\"salary mean: \", str(des_mean_train[\"anualized_salary_mean\"].mean()))\n",
        "ax = sns.distplot(sal_plot[\"anualized_salary_mean\"])\n",
        "ax.axvline(sal_plot[\"anualized_salary_mean\"].median(), lw=2.5, ls='dashed', color='black')\n",
        "ax.axvline(sal_plot[\"anualized_salary_mean\"].mean(), lw=2.5, ls='dashed', color='red')\n",
        "plt.savefig(\"Distribution.pdf\")"
      ],
      "execution_count": 19,
      "outputs": [
        {
          "output_type": "stream",
          "text": [
            "salary median:  55000.0\n",
            "salary mean:  65149.04230223718\n"
          ],
          "name": "stdout"
        },
        {
          "output_type": "display_data",
          "data": {
            "image/png": "[encoded data removed]",
            "text/plain": [
              "<Figure size 432x288 with 1 Axes>"
            ]
          },
          "metadata": {
            "tags": [],
            "needs_background": "light"
          }
        }
      ]
    },
    {
      "cell_type": "code",
      "metadata": {
        "id": "6w49Usvizs5c",
        "colab_type": "code",
        "colab": {}
      },
      "source": [
        "# Classify salary values into three classes\n",
        "des_mean_train[\"salary_level\"] = np.nan\n",
        "des_mean_train.loc[des_mean_train[\"anualized_salary_mean\"] < 60000, \"salary_level\"] = 1\n",
        "des_mean_train.loc[des_mean_train[\"anualized_salary_mean\"] >= 60000, \"salary_level\"] = 2\n",
        "des_mean_train.loc[des_mean_train[\"anualized_salary_mean\"] >= 120000, \"salary_level\"] = 3\n",
        "\n",
        "# Prepare label dataset\n",
        "targets = []\n",
        "for i in range(des_mean_train.shape[0]):\n",
        "  targets.append(des_mean_train.loc[i]['salary_level'])\n",
        "value = np.array(targets)"
      ],
      "execution_count": 0,
      "outputs": []
    },
    {
      "cell_type": "code",
      "metadata": {
        "id": "1_XZOnI-yAsi",
        "colab_type": "code",
        "colab": {}
      },
      "source": [
        "# Transform text data to vectors\n",
        "# text data consists of description, location, title, and company\n",
        "des_tr = []\n",
        "\n",
        "for i in range(des_mean_train.shape[0]):\n",
        "  text_des=des_mean_train.loc[i]['description']\n",
        "  text_loc=des_mean_train.loc[i]['location']\n",
        "  text_tit=des_mean_train.loc[i]['title']\n",
        "  text_com=des_mean_train.loc[i]['company_name']\n",
        "  \n",
        "  # sum_desc=text_des+text_loc+text_tit+text_com\n",
        "  sum_desc=text_des+\" \"+text_loc+\" \"+text_tit+\" \"+text_com\n",
        "  clean_des=clean(sum_desc,1)\n",
        "  des_tr.append(clean_des)"
      ],
      "execution_count": 0,
      "outputs": []
    },
    {
      "cell_type": "code",
      "metadata": {
        "id": "pXTtFEd2MgoD",
        "colab_type": "code",
        "colab": {}
      },
      "source": [
        "# Transform count vector to tfidf vector\n",
        "X_counts_des=vect(des_tr, des_tr, 200)\n",
        "\n",
        "transformer = TfidfTransformer(smooth_idf=False)\n",
        "\n",
        "tfidf = transformer.fit_transform(X_counts_des)\n",
        "\n",
        "X_tfidf = tfidf.toarray()"
      ],
      "execution_count": 0,
      "outputs": []
    },
    {
      "cell_type": "markdown",
      "metadata": {
        "id": "DvRL0zl_eRWj",
        "colab_type": "text"
      },
      "source": [
        "### 0.1 Prepare unlabeled data"
      ]
    },
    {
      "cell_type": "code",
      "metadata": {
        "id": "t48PLuorBhaZ",
        "colab_type": "code",
        "colab": {}
      },
      "source": [
        "# Vectorize unlabeled data\n",
        "des_all = []\n",
        "\n",
        "for i in range(df_all.shape[0]):\n",
        "  text_des=df_all.loc[i]['description']\n",
        "  text_loc=df_all.loc[i]['location']\n",
        "  text_tit=df_all.loc[i]['title']\n",
        "  text_com=df_all.loc[i]['company_name']\n",
        "  \n",
        "  sum_desc=text_des+\" \"+text_loc+\" \"+text_tit+\" \"+text_com\n",
        "  clean_des=clean(sum_desc,1)\n",
        "  des_all.append(clean_des)"
      ],
      "execution_count": 0,
      "outputs": []
    },
    {
      "cell_type": "code",
      "metadata": {
        "id": "DoqsR-tfBm1e",
        "colab_type": "code",
        "colab": {}
      },
      "source": [
        "# Transform unlabeled data using tfidf\n",
        "X_counts_all=vect(des_all, des_tr, 200)\n",
        "\n",
        "transformer = TfidfTransformer(smooth_idf=False)\n",
        "\n",
        "tfidf = transformer.fit_transform(X_counts_all)\n",
        "\n",
        "X_tfidf_all = tfidf.toarray()"
      ],
      "execution_count": 0,
      "outputs": []
    },
    {
      "cell_type": "markdown",
      "metadata": {
        "id": "M79oN7iJb0k0",
        "colab_type": "text"
      },
      "source": [
        "# 1 First Layer Models\n"
      ]
    },
    {
      "cell_type": "markdown",
      "metadata": {
        "id": "WbhAnLCWVlVS",
        "colab_type": "text"
      },
      "source": [
        "To Bulid the ensemble model, firstly train three models and tune hyperparameters for later use"
      ]
    },
    {
      "cell_type": "markdown",
      "metadata": {
        "id": "Pda0FcjQV4Za",
        "colab_type": "text"
      },
      "source": [
        "### 1.1 Random Forest"
      ]
    },
    {
      "cell_type": "code",
      "metadata": {
        "id": "dpYk7W0b7kII",
        "colab_type": "code",
        "colab": {}
      },
      "source": [
        "def random_forest(features, value):\n",
        "\n",
        "      clf_rf = RandomForestClassifier()\n",
        "\n",
        "      score = np.array(features)\n",
        "\n",
        "      X_train, X_test, y_train, y_test = train_test_split(score, value, train_size = 0.7)\n",
        "\n",
        "      param_grid = { \n",
        "                  \"n_estimators\"      : [650, 600, 710, 750, 800], \n",
        "                  }\n",
        "\n",
        "      grid_rf = GridSearchCV(clf_rf, param_grid, cv=5)\n",
        "\n",
        "      grid_rf.fit(X_train, y_train)\n",
        "\n",
        "      print(grid_rf.best_params_)\n",
        "\n",
        "      result=grid_rf.predict(X_test)\n",
        "\n",
        "      print(accuracy_score(y_test, result))\n",
        "\n",
        "      return grid_rf, grid_rf.best_params_"
      ],
      "execution_count": 0,
      "outputs": []
    },
    {
      "cell_type": "code",
      "metadata": {
        "id": "DrgpxJXD8-aj",
        "colab_type": "code",
        "colab": {
          "base_uri": "https://localhost:8080/",
          "height": 52
        },
        "outputId": "50c69ff7-54e1-4080-d44d-79202d3b8723"
      },
      "source": [
        "grid_rf, result_rf = random_forest(X_tfidf, value)"
      ],
      "execution_count": 17,
      "outputs": [
        {
          "output_type": "stream",
          "text": [
            "{'n_estimators': 650}\n",
            "0.8626982513216754\n"
          ],
          "name": "stdout"
        }
      ]
    },
    {
      "cell_type": "markdown",
      "metadata": {
        "id": "o0KmS04MWCNl",
        "colab_type": "text"
      },
      "source": [
        "### 1.2 KNN"
      ]
    },
    {
      "cell_type": "code",
      "metadata": {
        "id": "lXC1mXsr3p6e",
        "colab_type": "code",
        "colab": {}
      },
      "source": [
        "def KNN(features, value):\n",
        "\n",
        "      score = np.array(features)\n",
        "\n",
        "      X_train, X_test, y_train, y_test = train_test_split(score, value, train_size = 0.7)\n",
        "\n",
        "      neigh = KNeighborsClassifier()\n",
        "\n",
        "      param_grid = {\n",
        "            \"n_neighbors\"       : [2,5,10,20,50,100],\n",
        "            }\n",
        "\n",
        "      grid_knn = GridSearchCV(neigh, param_grid, n_jobs = 5, cv=5)\n",
        "\n",
        "      grid_knn.fit(X_train, y_train)\n",
        "\n",
        "      print(grid_knn.best_params_)\n",
        "\n",
        "      result=grid_knn.predict(X_test)\n",
        "\n",
        "      print(accuracy_score(y_test, result))\n",
        "\n",
        "      return grid_knn, grid_knn.best_params_"
      ],
      "execution_count": 0,
      "outputs": []
    },
    {
      "cell_type": "code",
      "metadata": {
        "id": "2o0h3WfseF6n",
        "colab_type": "code",
        "colab": {
          "base_uri": "https://localhost:8080/",
          "height": 52
        },
        "outputId": "643a5244-a29a-4a95-a169-d72dc42b981c"
      },
      "source": [
        "grid_knn, result_knn = KNN(X_tfidf, value)"
      ],
      "execution_count": 30,
      "outputs": [
        {
          "output_type": "stream",
          "text": [
            "{'n_neighbors': 2}\n",
            "0.7968686457909719\n"
          ],
          "name": "stdout"
        }
      ]
    },
    {
      "cell_type": "markdown",
      "metadata": {
        "id": "M2umN-ogWI17",
        "colab_type": "text"
      },
      "source": [
        "### 1.3 SVM"
      ]
    },
    {
      "cell_type": "code",
      "metadata": {
        "id": "RS6FsSHNrIi0",
        "colab_type": "code",
        "colab": {}
      },
      "source": [
        "def Sup_vec(features, value):\n",
        "\n",
        "      clf_sv = SVC()\n",
        "\n",
        "      score = np.array(features)\n",
        "\n",
        "      X_train, X_test, y_train, y_test = train_test_split(score, value, train_size = 0.7)\n",
        "\n",
        "      param_grid = { \n",
        "                  \"kernel\"      : ['poly', 'linear', 'rbf'], \n",
        "                  }\n",
        "\n",
        "      grid_sv = GridSearchCV(clf_sv, param_grid, n_jobs = 5, cv=5)\n",
        "\n",
        "      grid_sv.fit(X_train, y_train)\n",
        "\n",
        "      print(grid_sv.best_params_) # poly\n",
        "\n",
        "      result=grid_sv.predict(X_test)\n",
        "\n",
        "      print(accuracy_score(y_test, result))\n",
        "\n",
        "      return grid_sv, grid_sv.best_params_"
      ],
      "execution_count": 0,
      "outputs": []
    },
    {
      "cell_type": "code",
      "metadata": {
        "id": "CKnFCYji36pT",
        "colab_type": "code",
        "colab": {
          "base_uri": "https://localhost:8080/",
          "height": 52
        },
        "outputId": "5ee83cef-0b6d-4125-af05-6ec27a1da149"
      },
      "source": [
        "grid_sv, result_sv = Sup_vec(X_tfidf, value)"
      ],
      "execution_count": 32,
      "outputs": [
        {
          "output_type": "stream",
          "text": [
            "{'kernel': 'poly'}\n",
            "0.8520231801545344\n"
          ],
          "name": "stdout"
        }
      ]
    },
    {
      "cell_type": "markdown",
      "metadata": {
        "id": "PMsYnfcTqatD",
        "colab_type": "text"
      },
      "source": [
        "### 1.4 First layer prediction (Baseline models)"
      ]
    },
    {
      "cell_type": "code",
      "metadata": {
        "id": "t5aBEHR2CfpS",
        "colab_type": "code",
        "colab": {}
      },
      "source": [
        "# Prepare data for training and scoring models\n",
        "score = np.array(X_tfidf)\n",
        "X_train, X_test, y_train, y_test = train_test_split(score, value, train_size = 0.7)"
      ],
      "execution_count": 0,
      "outputs": []
    },
    {
      "cell_type": "code",
      "metadata": {
        "id": "HREtv0pw_Ayc",
        "colab_type": "code",
        "outputId": "578d72ea-d2fc-400a-c7f3-eeedede5ee5f",
        "colab": {
          "base_uri": "https://localhost:8080/",
          "height": 69
        }
      },
      "source": [
        "# First layer prediction and scoring models\n",
        "# The models are also baseline models\n",
        "neigh = KNeighborsClassifier(n_neighbors=list(result_knn.values())[0])\n",
        "neigh.fit(X_train, y_train)\n",
        "result_knn_train=neigh.predict(X_train)\n",
        "result_knn_test=neigh.predict(X_test)\n",
        "\n",
        "print(\"knn done: \", accuracy_score(y_test, result_knn_test))\n",
        "\n",
        "clf_rf = RandomForestClassifier(n_estimators=list(result_rf.values())[0], random_state=49)\n",
        "clf_rf.fit(X_train, y_train)\n",
        "result_rf_train=clf_rf.predict(X_train)\n",
        "result_rf_test=clf_rf.predict(X_test)\n",
        "\n",
        "print(\"random forest done: \", accuracy_score(y_test, result_rf_test))\n",
        "\n",
        "clf_sv = SVC(kernel=list(result_sv.values())[0])\n",
        "clf_sv.fit(X_train, y_train)\n",
        "result_sv_train=clf_sv.predict(X_train)\n",
        "result_sv_test=clf_sv.predict(X_test)\n",
        "\n",
        "print(\"svm done: \", accuracy_score(y_test, result_sv_test))"
      ],
      "execution_count": 0,
      "outputs": [
        {
          "output_type": "stream",
          "text": [
            "knn done:  0.7984953233021553\n",
            "random forest done:  0.8638674257828386\n",
            "svm done:  0.8542090280601871\n"
          ],
          "name": "stdout"
        }
      ]
    },
    {
      "cell_type": "code",
      "metadata": {
        "colab_type": "code",
        "id": "C-ldPfB7tntr",
        "outputId": "7af92790-0ff1-49a6-d8da-dd5e3280f626",
        "colab": {
          "base_uri": "https://localhost:8080/",
          "height": 69
        }
      },
      "source": [
        "# First layer prediction for unlabeled models\n",
        "result_all_knn=neigh.predict(X_tfidf_all)\n",
        "\n",
        "print(\"knn done\")\n",
        "\n",
        "result_all_rf=clf_rf.predict(X_tfidf_all)\n",
        "\n",
        "print(\"random forest done\")\n",
        "\n",
        "result_all_sv=clf_sv.predict(X_tfidf_all)\n",
        "\n",
        "print(\"svm done\")"
      ],
      "execution_count": 0,
      "outputs": [
        {
          "output_type": "stream",
          "text": [
            "knn done\n",
            "random forest done\n",
            "svm done\n"
          ],
          "name": "stdout"
        }
      ]
    },
    {
      "cell_type": "code",
      "metadata": {
        "id": "tFKHqNd6JEMW",
        "colab_type": "code",
        "colab": {}
      },
      "source": [
        "# Create new features for next layer prediciton\n",
        "new_features_all = pd.DataFrame({'KNN_result':result_all_knn,\n",
        "                                 'RF_result':result_all_rf, 'SVM_result':result_all_sv})"
      ],
      "execution_count": 0,
      "outputs": []
    },
    {
      "cell_type": "markdown",
      "metadata": {
        "id": "6AvNc-0dqp4I",
        "colab_type": "text"
      },
      "source": [
        "# 2 Second layer model"
      ]
    },
    {
      "cell_type": "markdown",
      "metadata": {
        "id": "jV7H4IbRyxm-",
        "colab_type": "text"
      },
      "source": [
        "### 2.1 Train a model for second-layer prediction"
      ]
    },
    {
      "cell_type": "code",
      "metadata": {
        "id": "P7eeaAE6dAJ2",
        "colab_type": "code",
        "colab": {}
      },
      "source": [
        "# Create features for second layer training\n",
        "new_features_test = pd.DataFrame({'KNN_result':result_knn_test,\n",
        "                             'RF_result':result_rf_test, 'SVM_result':result_sv_test})\n",
        "\n",
        "new_features_train = pd.DataFrame({'KNN_result':result_knn_train,\n",
        "                             'RF_result':result_rf_train, 'SVM_result':result_sv_train})"
      ],
      "execution_count": 0,
      "outputs": []
    },
    {
      "cell_type": "code",
      "metadata": {
        "id": "Y7wkoXhX7YUa",
        "colab_type": "code",
        "outputId": "decede20-9778-4c7e-ebf0-fe0771a5cf35",
        "colab": {
          "base_uri": "https://localhost:8080/",
          "height": 69
        }
      },
      "source": [
        "# Manually tune hyperparameter for combiner (Random Forest)\n",
        "best_para=0\n",
        "best_result=0\n",
        "\n",
        "for i in range(10,500,5): \n",
        "    clf_tune = RandomForestClassifier(n_estimators=i, random_state=49)\n",
        "    clf_tune.fit(new_features_train, y_train)\n",
        "    result=clf_tune.predict(new_features_test) \n",
        "    accuracy = accuracy_score(y_test, result)\n",
        "    if accuracy>best_result:\n",
        "        best_result = accuracy\n",
        "        best_para=i\n",
        "        print(best_para,\" \",best_result)\n",
        "\n",
        "best_rs=49\n",
        "\n",
        "for i in range(1,265,1): \n",
        "    clf_tune = RandomForestClassifier(n_estimators=best_para, random_state=i)\n",
        "    clf_tune.fit(new_features_train, y_train)\n",
        "    result=clf_tune.predict(new_features_test) \n",
        "    accuracy = accuracy_score(y_test, result)\n",
        "    if accuracy>best_result:\n",
        "        best_result = accuracy\n",
        "        best_rs=i\n",
        "        print(best_rs,\" \",best_result)\n",
        "\n",
        "clf_best_rf = RandomForestClassifier(n_estimators=best_para, random_state=best_rs)"
      ],
      "execution_count": 0,
      "outputs": [
        {
          "output_type": "stream",
          "text": [
            "10   0.862545750305002\n",
            "15   0.8649349328995527\n",
            "195   0.8705266368442456\n"
          ],
          "name": "stdout"
        }
      ]
    },
    {
      "cell_type": "code",
      "metadata": {
        "id": "sL3HBNEvRARF",
        "colab_type": "code",
        "outputId": "c9b6f357-d261-43c6-ee1b-0870c17665b2",
        "colab": {
          "base_uri": "https://localhost:8080/",
          "height": 52
        }
      },
      "source": [
        "# Manually tune hyperparameter for combiner (KNN)\n",
        "best_para_knn=0\n",
        "best_result_knn=0\n",
        "\n",
        "for i in range(1,10): \n",
        "\n",
        "    clf_tune = KNeighborsClassifier(n_neighbors=i)\n",
        "    clf_tune.fit(new_features_train, y_train)\n",
        " \n",
        "    result=clf_tune.predict(new_features_test) \n",
        "    accuracy = accuracy_score(y_test, result)\n",
        "    if accuracy>best_result_knn:\n",
        "        best_result_knn = accuracy\n",
        "        best_para_knn=i\n",
        "        print(best_para_knn,\" \",best_result_knn)\n",
        "\n",
        "for i in range(10,500,10): \n",
        "\n",
        "    clf_tune = KNeighborsClassifier(n_neighbors=i)\n",
        "    clf_tune.fit(new_features_train, y_train)\n",
        " \n",
        "    result=clf_tune.predict(new_features_test) \n",
        "    accuracy = accuracy_score(y_test, result)\n",
        "    if accuracy>best_result_knn:\n",
        "        best_result_knn = accuracy\n",
        "        best_para_knn=i\n",
        "        print(best_para_knn,\" \",best_result_knn)\n",
        "\n",
        "clf_best_knn = KNeighborsClassifier(n_neighbors=best_para_knn)"
      ],
      "execution_count": 0,
      "outputs": [
        {
          "output_type": "stream",
          "text": [
            "1   0.8634099227328182\n",
            "230   0.8674766165107768\n"
          ],
          "name": "stdout"
        }
      ]
    },
    {
      "cell_type": "code",
      "metadata": {
        "id": "0QeFoGKEZBHU",
        "colab_type": "code",
        "outputId": "36ae9a6d-2fda-448f-f873-0f0d102a449c",
        "colab": {
          "base_uri": "https://localhost:8080/",
          "height": 34
        }
      },
      "source": [
        "# Select the best model and score it\n",
        "if best_result_knn > best_result:\n",
        "    clf_com = clf_best_knn\n",
        "else:\n",
        "    clf_com = clf_best_rf\n",
        "\n",
        "clf_com.fit(new_features_train, y_train)\n",
        "\n",
        "print(clf_com.score(new_features_test, y_test))"
      ],
      "execution_count": 0,
      "outputs": [
        {
          "output_type": "stream",
          "text": [
            "0.8705266368442456\n"
          ],
          "name": "stdout"
        }
      ]
    },
    {
      "cell_type": "markdown",
      "metadata": {
        "id": "YeEYiyBEzfcU",
        "colab_type": "text"
      },
      "source": [
        "### 2.2 Second layer prediction"
      ]
    },
    {
      "cell_type": "code",
      "metadata": {
        "colab_type": "code",
        "id": "AkpNp5aetYF4",
        "colab": {}
      },
      "source": [
        "# Prepare second layer features\n",
        "all_score = np.array(new_features_all)\n",
        "result=clf_com.predict(all_score)\n",
        "df_result_all=pd.DataFrame({'Salary_level':result})"
      ],
      "execution_count": 0,
      "outputs": []
    },
    {
      "cell_type": "code",
      "metadata": {
        "id": "r1hBeYMo0TB0",
        "colab_type": "code",
        "colab": {}
      },
      "source": [
        "# Create new dataframe for result analysis\n",
        "df_all_pred = pd.concat([df_all, df_result_all, df_final], axis=1, sort=False)\n",
        "analysis = df_all_pred.loc[:,~df_all_pred.columns.duplicated()]\n",
        "analysis = analysis.loc[:,['description', 'company_name', 'location', \n",
        "                              'title', 'Salary_level', 'score', 'score2']]   "
      ],
      "execution_count": 0,
      "outputs": []
    },
    {
      "cell_type": "markdown",
      "metadata": {
        "id": "cYW5bN2-1q2s",
        "colab_type": "text"
      },
      "source": [
        "# 3 Result analysis"
      ]
    },
    {
      "cell_type": "markdown",
      "metadata": {
        "id": "3StPZuYt1wJx",
        "colab_type": "text"
      },
      "source": [
        "Use salary and gender scores to analysis the influence of gender languages on job salaries."
      ]
    },
    {
      "cell_type": "markdown",
      "metadata": {
        "id": "SZkNO1px18k7",
        "colab_type": "text"
      },
      "source": [
        "### 3.1 Cluster similar categories of jobs"
      ]
    },
    {
      "cell_type": "markdown",
      "metadata": {
        "id": "VXnZmpCmNDRK",
        "colab_type": "text"
      },
      "source": [
        "##### 3.1.1 Prepare industry keywords"
      ]
    },
    {
      "cell_type": "code",
      "metadata": {
        "id": "VFLfYVbAVI4v",
        "colab_type": "code",
        "colab": {}
      },
      "source": [
        "# Define function to print out different occupation clusters\n",
        "def print_cluster(maps):\n",
        "    # print out 10 samples in each industry\n",
        "    title_pro = {}\n",
        "    for i in ind_list:\n",
        "        title_pro[i]=[]\n",
        "\n",
        "    for i in maps.items():\n",
        "        title_pro[i[1]].append(i[0])\n",
        "\n",
        "    ind_number = []\n",
        "    ind_init = []\n",
        "    for i in title_pro.items():\n",
        "        ind_number.append(len(i[1]))\n",
        "        ind_init.append(i[0][:4])\n",
        "        print(i[0],\"({} entries)\".format(len(i[1])))\n",
        "        print(i[1][200:210])\n",
        "        \n",
        "    # plot the distribution of jobs in each industry\n",
        "    plt.figure(figsize=(8,10)) \n",
        "    x = np.arange(len(ind_number))\n",
        "    plt.title(\"Baselines performance\")\n",
        "    plt.bar(x, ind_number, width=0.5)\n",
        "    plt.xticks(x, ind_init)\n",
        "    plt.savefig('industry.pdf')"
      ],
      "execution_count": 0,
      "outputs": []
    },
    {
      "cell_type": "code",
      "metadata": {
        "id": "cUZvfhXKUqA-",
        "colab_type": "code",
        "colab": {}
      },
      "source": [
        "# Prepare classification features\n",
        "big_desc = analysis[\"description\"]\n",
        "big_title = analysis[\"title\"]"
      ],
      "execution_count": 0,
      "outputs": []
    },
    {
      "cell_type": "code",
      "metadata": {
        "id": "v5B4byRNc0v0",
        "colab_type": "code",
        "outputId": "fbbdc854-0a4f-4576-841b-b30356bf4d93",
        "colab": {
          "base_uri": "https://localhost:8080/",
          "height": 72
        }
      },
      "source": [
        "# Prepare a library to classify distinguishi occupations\n",
        "page = requests.get('https://www.recruiter.com/careers/')\n",
        "url_list=[]\n",
        "ind_list=[]\n",
        "soup = BeautifulSoup(page.text, \"html.parser\", from_encoding='utf-8')\n",
        "\n",
        "# Acquire link to different occupations\n",
        "for div in soup.find_all(name='a', attrs={'class':'c-font-24 c-font-blue-3 c-font-sbold'},href=True):\n",
        "    url_list.append(div['href'])\n",
        "    ind_list.append(div.text)\n",
        "\n",
        "# Get descriptions of different occupations\n",
        "all_ind_desc=[]\n",
        "for i in url_list:\n",
        "    page = requests.get(i)\n",
        "    time.sleep(random.randint(4,9)/10)\n",
        "    ind_desc=[]\n",
        "    soup = BeautifulSoup(page.text, \"html.parser\", from_encoding='utf-8')\n",
        "    for div in soup.find_all(name='div', attrs={'class':'careerClusterListDesc'}):\n",
        "        ind_desc.append(div.text)\n",
        "    for div in soup.find_all(name='div', attrs={'class':'c-font-16'}):\n",
        "        ind_desc.append(div.text)\n",
        "    all_ind_desc.append(ind_desc)"
      ],
      "execution_count": 41,
      "outputs": [
        {
          "output_type": "stream",
          "text": [
            "/usr/local/lib/python3.6/dist-packages/bs4/__init__.py:179: UserWarning: You provided Unicode markup but also provided a value for from_encoding. Your from_encoding will be ignored.\n",
            "  warnings.warn(\"You provided Unicode markup but also provided a value for from_encoding. Your from_encoding will be ignored.\")\n"
          ],
          "name": "stderr"
        }
      ]
    },
    {
      "cell_type": "code",
      "metadata": {
        "id": "3m6riZLRtMui",
        "colab_type": "code",
        "colab": {}
      },
      "source": [
        "# Clean text data\n",
        "text_ind_desc=[]\n",
        "for i in all_ind_desc:\n",
        "    text_ind = []\n",
        "    for j in i:\n",
        "        if '\\n' in j:\n",
        "            continue\n",
        "        else:\n",
        "            text_ind.append(j)\n",
        "    text_ind_desc.append(text_ind)"
      ],
      "execution_count": 0,
      "outputs": []
    },
    {
      "cell_type": "code",
      "metadata": {
        "id": "3teBrxtMtKkG",
        "colab_type": "code",
        "colab": {}
      },
      "source": [
        "# Make a list of keywords from 16 industries\n",
        "ind_key=[]\n",
        "for i in text_ind_desc:\n",
        "\n",
        "    clean_text=[]\n",
        "    key_words=[]\n",
        "\n",
        "    for j in i:\n",
        "        clean_text.append(clean(j,1))\n",
        "        \n",
        "    vec = CountVectorizer().fit(clean_text)\n",
        "    bag_of_words = vec.transform(clean_text)\n",
        "    sum_words = bag_of_words.sum(axis=0) \n",
        "    words_freq = [(word, sum_words[0, idx]) for word, idx in vec.vocabulary_.items()]\n",
        "    words_freq =sorted(words_freq, key = lambda x: x[1], reverse=True)\n",
        "    for i in words_freq[:201]:\n",
        "        if i[0] != 'may':\n",
        "            key_words.append(i[0])\n",
        "    ind_key.append(key_words[:200])"
      ],
      "execution_count": 0,
      "outputs": []
    },
    {
      "cell_type": "markdown",
      "metadata": {
        "id": "g9tx5vHzNNf-",
        "colab_type": "text"
      },
      "source": [
        "##### 3.1.2 Classify different kinds of jobs"
      ]
    },
    {
      "cell_type": "code",
      "metadata": {
        "id": "RBD7Ls9DtIxP",
        "colab_type": "code",
        "colab": {
          "base_uri": "https://localhost:8080/",
          "height": 1000
        },
        "outputId": "46d18070-5957-4d79-c655-5936ec7ed181"
      },
      "source": [
        "# Classify the job by counting which industry the job description has most keywords of \n",
        "ind = []\n",
        "count=0\n",
        "\n",
        "start = time.time()\n",
        "for i in big_desc:\n",
        "\n",
        "    i = clean(i,1)\n",
        "    texts=word_tokenize(i) # Tokenize each description\n",
        "\n",
        "    # Find the industry the job has most keywords of\n",
        "    scores = []\n",
        "    for x in ind_key: \n",
        "        key_count=0\n",
        "        max_simialrity=0\n",
        "        for n in texts:\n",
        "            if n in x:\n",
        "                key_count+=1 \n",
        "\n",
        "        if key_count > max_simialrity:\n",
        "            max_simialrity = key_count\n",
        "        scores.append(key_count)\n",
        "    ind.append(ind_list[scores.index(max(scores))])\n",
        "    count+=1\n",
        "\n",
        "    if (count%10000==0):\n",
        "        print(count)\n",
        "        end = time.time()\n",
        "        print(end - start)\n",
        "\n",
        "end = time.time()\n",
        "print(end - start)\n",
        "# Zip the result with job titles\n",
        "results = dict(zip(big_title,ind))"
      ],
      "execution_count": 93,
      "outputs": [
        {
          "output_type": "stream",
          "text": [
            "/usr/local/lib/python3.6/dist-packages/bs4/__init__.py:336: UserWarning: \"https://www.google.com/url?q=https://GRYD.formstack.com/forms/2020snljob...\" looks like a URL. Beautiful Soup is not an HTTP client. You should probably use an HTTP client like requests to get the document behind the URL, and feed that document to Beautiful Soup.\n",
            "  ' that document to Beautiful Soup.' % decoded_markup\n"
          ],
          "name": "stderr"
        },
        {
          "output_type": "stream",
          "text": [
            "10000\n",
            "144.05447483062744\n",
            "20000\n",
            "293.5507175922394\n",
            "30000\n",
            "439.4666495323181\n",
            "40000\n",
            "589.0356168746948\n",
            "50000\n",
            "731.3151223659515\n",
            "60000\n",
            "888.5505321025848\n",
            "70000\n",
            "1035.0370545387268\n",
            "80000\n",
            "1186.339350938797\n",
            "90000\n",
            "1325.2444405555725\n",
            "100000\n",
            "1467.6125280857086\n",
            "110000\n",
            "1615.578762292862\n",
            "120000\n",
            "1764.2212452888489\n",
            "130000\n",
            "1910.224997997284\n",
            "140000\n",
            "2057.0576543807983\n",
            "150000\n",
            "2199.2563016414642\n",
            "160000\n",
            "2357.6925418376923\n",
            "170000\n",
            "2501.427396774292\n",
            "180000\n",
            "2646.770482301712\n",
            "190000\n",
            "2793.503100633621\n",
            "200000\n",
            "2928.0232169628143\n",
            "210000\n",
            "3069.67542886734\n",
            "220000\n",
            "3214.4410452842712\n",
            "230000\n",
            "3353.9990158081055\n",
            "240000\n",
            "3502.2347042560577\n",
            "250000\n",
            "3644.229251384735\n",
            "260000\n",
            "3787.296413898468\n",
            "270000\n",
            "3926.8921105861664\n",
            "280000\n",
            "4081.539405107498\n",
            "4120.61943936348\n"
          ],
          "name": "stdout"
        }
      ]
    },
    {
      "cell_type": "code",
      "metadata": {
        "id": "jLHvDJicoySe",
        "colab_type": "code",
        "outputId": "5913ba62-2c59-437d-fee6-54d1744d6539",
        "colab": {
          "base_uri": "https://localhost:8080/",
          "height": 1000
        }
      },
      "source": [
        "# Print out the results\n",
        "print_cluster(results)"
      ],
      "execution_count": 98,
      "outputs": [
        {
          "output_type": "stream",
          "text": [
            "Agriculture, Food and Natural Resources (1456 entries)\n",
            "['Highspeed Associate I - Cash Handler', 'Peeler Operator Stick Line', 'General Production Labor 2nd Shift', 'Community Pools Office Assistant', 'Bahama Beach Waterpark Attendant', 'R&D Asst Scientist', 'Cable Splicer - Underground (ONCOR)', 'Laboratory Assistant II', 'Production Crew', 'Plant Manager - Steel Fabrication']\n",
            "Architecture and Construction (1789 entries)\n",
            "['Journeyman Labor', 'General Labor Associate- $15/hr', 'Equipment Operator - Overhead (ONCOR)', '7620.PLUMBER.N/A.MAIN(965-MAINT & FAC SRV)', 'Current Job Openings', 'COMBINATION INSPECTOR', 'Property Preservation Subcontractors', 'Concrete Laborer and Finisher', 'Millwright', 'Software Consultant']\n",
            "Arts, Audio/Video Technology and Communications (1393 entries)\n",
            "['Nuke Artist', 'Corporate Recruiter', 'FX TD', 'Character Designer', 'Audio Technician, Screening Operations', 'TV Lighting TD', 'Talent Relations Manager', 'Creator Relations Associate', 'Publicity Specialist, Amazon Studios', 'DreamWorks TV - Storyboard Artist (Temp)']\n",
            "Business Management and Administration (40159 entries)\n",
            "['Barista and Cashier', 'Retail Associate', 'Vans PT Sales Associate', 'File Clerk/Administrative Assistant', 'Business Partnerships', 'SECURITY OFFICER', 'Corporate Meeting Specialist', 'Merchandise Associate', 'Wholesale Customer Service Coordinator - NYC', 'Registered Associate']\n",
            "Education and Training (14208 entries)\n",
            "['Corda Instructors - Will Train', 'Scientific Advisor with PhD for IP Law Firm', 'Software Development Engineer - Intern (NYC)', 'Associate Director, Global Affairs', 'Communications Associate- Ecosystems & Alliances (Enabling Consultant)', 'Brooklyn Practice Directors', 'Assistant Manager, Global Brand Management', 'Associate Director of People and Culture', 'Quantitative Investment Strats (QIS) - CIMD', 'Dance Instructor']\n",
            "Finance (6053 entries)\n",
            "['Associate Private Banker', 'B2B Sales Professional', 'Portfolio Manager, C&I', 'Sales Executive - Automotive Industry', 'Customer Success Agent', 'Territory Manager-Food Service Street Team: Southern California (Entry Level)', 'Associate - Investments Group', 'Financier', 'Law Firm Intake Department / Sales', 'CUSTOMER SUCCESS REPRESENTATIVE']\n",
            "Government and Public Administration (1412 entries)\n",
            "['NEXWDC Analyst/Exercise Design Developer', 'Technician, Avionics: CBP San Diego', 'Technical Trainer/Operator', 'City Auditor, Office of the City Auditor- I1901 (Unclassified)', 'Special Finance Manager- SD Chrysler Dodge Jeep Ram', 'EHS Consultant/Industrial Hygienist', 'SURFACE SHIP PROGRAM MANAGER', 'Principal Appraiser, Real Estate Assets Department', 'Chief Executive for Established Roofing Company', 'Master Barber']\n",
            "Health Science (20001 entries)\n",
            "['Computer Operations Manager', 'Field Service Representative - Jamestown, NY', 'Corporate Risk Agent - PART-TIME', 'Clinical Counselor', 'Budget Associate', 'Channels Strategist', 'Administrator Funded Project', 'Associate Scientist, Oncological Sciences', '2020 Graduate Talent Program, Credit Risk', 'Knowledge Analyst']\n",
            "Hospitality and Tourism (4143 entries)\n",
            "['Security Manager', 'Dir, Outlets, BU (E)', 'E-liquid perfumer', 'Highest Real Estate Commission', 'Grocery Shopper', \"Mariano's Retail Clerk (Chicago/S. Ashland Ave./Bridgeport)\", 'Food 4 Less Retail Clerk (47th & Damen)', \"Mariano's Retail Clerk (Chicago/Monroe & Halsted)\", 'STARBUCKS DEPARTMENT', 'Housekeeping Attendant (Mid-Shift)']\n",
            "Human Services (2510 entries)\n",
            "['Direct Service Provider - Phoenix', 'Escrow Officer - Phoenix, AZ', 'Associate Loan Originator', 'Program Manager, Ring Community Support', 'Staff Assistant I, Airport Hub/Gateway', 'Psychiatric Rehabilitation Program Assistant', 'Cart Retriever Job', 'Chick Fil-A Crew member', 'Human Services Program Representative 1', 'Pre-litigation Paralegal/Case Manger']\n",
            "Information Technology (22803 entries)\n",
            "['AML Investigator', 'Technical Operations Specialist', 'Assistant Treasurer, Fraud Analyst', 'Junior Web Producer', 'Client Services Associate', 'Environmental Health and Safety Officer', 'Research Associate, Banking', 'Part time People & Talent Generalist', 'Data Analyst Intern', 'AVP, Fraud Prevention Team Lead']\n",
            "Law, Public Safety, Corrections and Security (990 entries)\n",
            "['Criminal Investigator', 'Paralegal/Legal Assistant 1', 'City Police-2', 'Accountant/Examiner 2', 'Disaster Services Consultant 1 (DRG)', 'MACI Correction Officer', 'LOCI Correction Officer', 'Claims Representative - IAP', 'Safety & Security Manager', 'Legal- VP, Assistant General Counsel- Human Resources Law']\n",
            "Manufacturing (1243 entries)\n",
            "['2nd Shift Machine Operator', 'Panel Builder/Wirer', 'Controls Specialist (Night Shift)', 'Machine Adjuster', 'Automatic Pool Cover Technician', 'Part Time Nanny', 'Maintenance Technician (Night Shift, $24-40/hour)', 'Indiana/Illinoise Territory Manager', 'Drilling Rig Jobs -Mid Continent Region (East Texas and Oklahoma)', 'Plastics - Straw Machine Operator']\n",
            "Marketing, Sales and Service (2261 entries)\n",
            "['Real Estate Agent (Phoenix)', 'Entry Level ~Will Train the right person~ Automotive Sales Associate!!', 'Investment Real Estate Sales and Acquisitions', 'Entry Level Sales Associate', 'FW: Hadoop Administrator-----------------8+Yrs---------Phoenix, AZ', 'Entry Automotive Sales Associate $3000 Base plus Commission /Paid Training!', 'Home Automation and Security Expert - Sales Representative', 'Elite Sales Consultant-Scottsdale', 'Comml Card Sales Officer', 'Full time sales']\n",
            "Science, Technology, Engineering and Mathematics (6893 entries)\n",
            "['Process', 'Construction Superintendent', 'Sustainability Certifications Specialist', 'OAR I', 'Head of QA and Localization, Stadia', 'Performance Marketing Manager', 'Quality Assurance Automation Analyst', 'Owners Authorized Representative', 'Principal, Port & Marine Terminals - US South', 'SURVEY SUPERVISOR I, FLOOD CONTROL']\n",
            "Transportation, Distribution and Logistics (2897 entries)\n",
            "['PASSENGER ASSIST RECEPTIONIST', 'Yard Associate', 'Casual Dock', 'Fleet Support Supervisor', 'LTL Driver', 'City Driver Full-Time Combined Dock/P and D', 'Seeking Technicians / Mechanics That Can Travel In and Around Phoenix', 'Electrical Technician (PLC - Siemens) (Beverage Canning Production)', 'Yard Technician - Phoenix, AZ', 'Auto Hauler Careers']\n"
          ],
          "name": "stdout"
        },
        {
          "output_type": "display_data",
          "data": {
            "image/png": "[encoded data removed]",
            "text/plain": [
              "<Figure size 576x720 with 1 Axes>"
            ]
          },
          "metadata": {
            "tags": [],
            "needs_background": "light"
          }
        }
      ]
    },
    {
      "cell_type": "code",
      "metadata": {
        "id": "H4u1iXcmlV9V",
        "colab_type": "code",
        "colab": {}
      },
      "source": [
        "# Put the results into the dataframe to create a new dataset\n",
        "dict_new = {}\n",
        "lst=[]\n",
        "for i in results.items():\n",
        "    lst.append([i[0],i[1]])\n",
        "\n",
        "value=[]\n",
        "key=[]\n",
        "for i in lst:\n",
        "    value.append(i[0])\n",
        "    key.append(i[1])\n",
        "dict_new['industry']=key\n",
        "dict_new['title']=value\n",
        "\n",
        "job_class = pd.DataFrame(dict_new)\n",
        "\n",
        "analysis_new = analysis.join(job_class.set_index('title'), on='title')"
      ],
      "execution_count": 0,
      "outputs": []
    },
    {
      "cell_type": "markdown",
      "metadata": {
        "id": "CzuFn7NGNh0s",
        "colab_type": "text"
      },
      "source": [
        "### 3.2 Analyze statistics\n"
      ]
    },
    {
      "cell_type": "code",
      "metadata": {
        "id": "7i3tNl57z4-F",
        "colab_type": "code",
        "colab": {}
      },
      "source": [
        "# Define function to calculate confidence interval\n",
        "def conf_int(scores):\n",
        "\n",
        "    confidence = 0.95\n",
        "    data = scores\n",
        "\n",
        "    n = len(data)\n",
        "    m = mean(data)\n",
        "    std_err = sem(data)\n",
        "    h = std_err * t.ppf((1 + confidence) / 2, n - 1)\n",
        "\n",
        "    start = m - h\n",
        "    end = m + h\n",
        "\n",
        "    return([m, h])"
      ],
      "execution_count": 0,
      "outputs": []
    },
    {
      "cell_type": "code",
      "metadata": {
        "id": "sU7S7wn4NoJh",
        "colab_type": "code",
        "colab": {}
      },
      "source": [
        "# Take out relevant features for analysis\n",
        "jobs = analysis_new.loc[:,['industry', 'Salary_level', 'score', 'score2', 'location']]"
      ],
      "execution_count": 0,
      "outputs": []
    },
    {
      "cell_type": "code",
      "metadata": {
        "id": "cLU46bAgyKCV",
        "colab_type": "code",
        "outputId": "eeb37393-3675-487b-fa18-4ae85e141915",
        "colab": {
          "base_uri": "https://localhost:8080/",
          "height": 637
        }
      },
      "source": [
        "# Computing and storing gender scores of different industries\n",
        "score_1s=[]\n",
        "score_2s=[]\n",
        "for i in ind_list:\n",
        "    jobs_ind=jobs[jobs.industry == i]\n",
        "    score1_ci = conf_int(jobs_ind['score'])\n",
        "    score2_ci = conf_int(jobs_ind['score2'])\n",
        "    salary_ci = conf_int(jobs_ind['Salary_level'])\n",
        "\n",
        "    # Compute confidence interval\n",
        "    ci_1 = [score1_ci[0]-score1_ci[1], score1_ci[0], score1_ci[0]+score1_ci[1]]\n",
        "    ci_2 = [score2_ci[0]-score2_ci[1], score2_ci[0], score2_ci[0]+score2_ci[1]]\n",
        "\n",
        "    score_1s.append([i,ci_1[0]])\n",
        "    score_1s.append([i,ci_1[1]])\n",
        "    score_1s.append([i,ci_1[2]])\n",
        "\n",
        "    score_2s.append([i,ci_2[0]])\n",
        "    score_2s.append([i,ci_2[1]])\n",
        "    score_2s.append([i,ci_2[2]])\n",
        "\n",
        "    print(i, ':\\n', \"(score1: %.3f±%.3f, score2: %.3f±%.3f, salary: %.3f±%.3f\"\n",
        "          % (score1_ci[0], score1_ci[1], score2_ci[0], score2_ci[1], salary_ci[0] \n",
        "          ,salary_ci[1]))"
      ],
      "execution_count": 49,
      "outputs": [
        {
          "output_type": "stream",
          "text": [
            "/usr/local/lib/python3.6/dist-packages/ipykernel_launcher.py:7: DeprecationWarning: scipy.mean is deprecated and will be removed in SciPy 2.0.0, use numpy.mean instead\n",
            "  import sys\n"
          ],
          "name": "stderr"
        },
        {
          "output_type": "stream",
          "text": [
            "Agriculture, Food and Natural Resources :\n",
            " (score1: 0.402±0.012, score2: -0.239±0.029, salary: 1.257±0.017\n",
            "Architecture and Construction :\n",
            " (score1: 0.381±0.011, score2: -0.275±0.026, salary: 1.167±0.014\n",
            "Arts, Audio/Video Technology and Communications :\n",
            " (score1: 0.384±0.012, score2: -0.256±0.029, salary: 1.424±0.019\n",
            "Business Management and Administration :\n",
            " (score1: 0.419±0.002, score2: -0.180±0.005, salary: 1.444±0.003\n",
            "Education and Training :\n",
            " (score1: 0.407±0.004, score2: -0.206±0.010, salary: 1.456±0.007\n",
            "Finance :\n",
            " (score1: 0.519±0.006, score2: 0.046±0.014, salary: 1.558±0.009\n",
            "Government and Public Administration :\n",
            " (score1: 0.441±0.013, score2: -0.142±0.031, salary: 1.360±0.019\n",
            "Health Science :\n",
            " (score1: 0.396±0.004, score2: -0.231±0.009, salary: 1.371±0.005\n",
            "Hospitality and Tourism :\n",
            " (score1: 0.316±0.006, score2: -0.428±0.013, salary: 1.066±0.005\n",
            "Human Services :\n",
            " (score1: 0.321±0.009, score2: -0.388±0.021, salary: 1.259±0.013\n",
            "Information Technology :\n",
            " (score1: 0.508±0.004, score2: 0.015±0.008, salary: 1.791±0.004\n",
            "Law, Public Safety, Corrections and Security :\n",
            " (score1: 0.439±0.016, score2: -0.141±0.037, salary: 1.395±0.023\n",
            "Manufacturing :\n",
            " (score1: 0.393±0.014, score2: -0.256±0.034, salary: 1.115±0.015\n",
            "Marketing, Sales and Service :\n",
            " (score1: 0.423±0.009, score2: -0.170±0.020, salary: 1.445±0.013\n",
            "Science, Technology, Engineering and Mathematics :\n",
            " (score1: 0.481±0.006, score2: -0.047±0.014, salary: 1.578±0.008\n",
            "Transportation, Distribution and Logistics :\n",
            " (score1: 0.370±0.008, score2: -0.302±0.019, salary: 1.175±0.011\n"
          ],
          "name": "stdout"
        }
      ]
    },
    {
      "cell_type": "code",
      "metadata": {
        "id": "KLfitvJPxQIx",
        "colab_type": "code",
        "colab": {}
      },
      "source": [
        "# Save the results to csv\n",
        "df_score1_ind = pd.DataFrame(score_1s).rename(columns={0: 'industry', 1:'score'})\n",
        "df_score1_ind.to_csv(\"score1_ind.csv\")\n",
        "df_score2_ind = pd.DataFrame(score_2s).rename(columns={0: 'industry', 1:'score'})\n",
        "df_score2_ind.to_csv(\"score2_ind.csv\")"
      ],
      "execution_count": 0,
      "outputs": []
    },
    {
      "cell_type": "code",
      "metadata": {
        "id": "o9rH8Hg0yKff",
        "colab_type": "code",
        "outputId": "109a28ac-8715-46a4-9ab2-4b02c3859c69",
        "colab": {
          "base_uri": "https://localhost:8080/",
          "height": 178
        }
      },
      "source": [
        "# Computing and storing gender scores of different salary levels\n",
        "score_1s=[]\n",
        "score_2s=[]\n",
        "Salary_levels = [\"Low salary\", \"Medium salary\", \"High salary\"]\n",
        "for i in [1,2,3]:\n",
        "    jobs_ind=jobs[jobs.Salary_level == i]\n",
        "    score1_ci = conf_int(jobs_ind['score'])\n",
        "    score2_ci = conf_int(jobs_ind['score2'])\n",
        "\n",
        "    # Compute confidence interval\n",
        "    ci_1 = [score1_ci[0]-score1_ci[1], score1_ci[0], score1_ci[0]+score1_ci[1]]\n",
        "    ci_2 = [score2_ci[0]-score2_ci[1], score2_ci[0], score2_ci[0]+score2_ci[1]]\n",
        "\n",
        "    score_1s.append([Salary_levels[i-1],ci_1[0]])\n",
        "    score_1s.append([Salary_levels[i-1],ci_1[1]])\n",
        "    score_1s.append([Salary_levels[i-1],ci_1[2]])\n",
        "\n",
        "    score_2s.append([Salary_levels[i-1],ci_2[0]])\n",
        "    score_2s.append([Salary_levels[i-1],ci_2[1]])\n",
        "    score_2s.append([Salary_levels[i-1],ci_2[2]])\n",
        "    print(i, ':\\n', \"(score1: %.3f±%.3f, score2: %.3f±%.3f\"\n",
        "          % (score1_ci[0], score1_ci[1], score2_ci[0], score2_ci[1]))"
      ],
      "execution_count": 69,
      "outputs": [
        {
          "output_type": "stream",
          "text": [
            "1 :\n",
            " (score1: 0.359±0.002, score2: -0.314±0.004\n",
            "2 :\n",
            " (score1: 0.516±0.002, score2: 0.033±0.005\n",
            "3 :\n",
            " (score1: 0.510±0.010, score2: 0.020±0.024\n"
          ],
          "name": "stdout"
        },
        {
          "output_type": "stream",
          "text": [
            "/usr/local/lib/python3.6/dist-packages/ipykernel_launcher.py:7: DeprecationWarning: scipy.mean is deprecated and will be removed in SciPy 2.0.0, use numpy.mean instead\n",
            "  import sys\n"
          ],
          "name": "stderr"
        }
      ]
    },
    {
      "cell_type": "code",
      "metadata": {
        "id": "5agNi7h2zNJZ",
        "colab_type": "code",
        "colab": {}
      },
      "source": [
        "# Save the results to csv\n",
        "df_score1_sal = pd.DataFrame(score_1s).rename(columns={0: 'salary', 1:'score'})\n",
        "df_score1_sal.to_csv(\"score1_sal.csv\")\n",
        "df_score2_sal = pd.DataFrame(score_2s).rename(columns={0: 'salary', 1:'score'})\n",
        "df_score2_sal.to_csv(\"score2_sal.csv\")"
      ],
      "execution_count": 0,
      "outputs": []
    }
  ]
}